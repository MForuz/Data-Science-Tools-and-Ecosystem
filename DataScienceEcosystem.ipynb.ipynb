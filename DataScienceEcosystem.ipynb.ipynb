{
 "cells": [
  {
   "cell_type": "markdown",
   "id": "c5b321ff-50c7-423e-ac68-a18601408aaf",
   "metadata": {},
   "source": [
    "# Data Science Tools and Ecosystem"
   ]
  },
  {
   "cell_type": "markdown",
   "id": "0df43697-d3bf-4541-836b-09a0e3cd3e83",
   "metadata": {},
   "source": [
    "#### In this notebook, Data Science Tools and Ecosystem are summarized."
   ]
  },
  {
   "cell_type": "markdown",
   "id": "a541ddbb-9280-4f20-89c3-6892310a3b4c",
   "metadata": {
    "tags": []
   },
   "source": [
    "**Objectives:**"
   ]
  },
  {
   "cell_type": "markdown",
   "id": "ad47d702-ac34-41b6-aaad-861c418f41e6",
   "metadata": {},
   "source": [
    "* List popular languages for Data Science\n",
    "* List of the Popular Libraries in the Data Science\n",
    "* List of Popular R libraries in the Data Science Community\n",
    "* Learning about Git & GitHub"
   ]
  },
  {
   "cell_type": "markdown",
   "id": "06c2992a-033d-4005-a8b9-1e441eff9869",
   "metadata": {},
   "source": [
    "#### Some of the popular languages that Data Scientists use are:"
   ]
  },
  {
   "cell_type": "markdown",
   "id": "ff816245-057e-4ec2-869f-eb3bc543f5c2",
   "metadata": {},
   "source": [
    "1. Python\n",
    "2. R\n",
    "3. SQL"
   ]
  },
  {
   "cell_type": "markdown",
   "id": "993cabe8-9842-46a3-abb2-3debb297b71d",
   "metadata": {},
   "source": [
    "#### Some of the commonly used libraries used by Data Scientists include:"
   ]
  },
  {
   "cell_type": "markdown",
   "id": "b4193923-5614-412b-8b27-c2677b65b73a",
   "metadata": {},
   "source": [
    "1. NumPy\n",
    "2. Pandas\n",
    "3. Matplotlib\n",
    "4. Scikit-learn"
   ]
  },
  {
   "cell_type": "markdown",
   "id": "d2aacb53-d487-4535-8069-92dfc639f2d1",
   "metadata": {},
   "source": [
    "| Data Science Tools |\n",
    "|--------------------|\n",
    "|Google Colab|\n",
    "| JupyterLite|\n",
    "|RStudio|"
   ]
  },
  {
   "cell_type": "markdown",
   "id": "d23532ae-84fe-48cc-b045-76fed1eeb657",
   "metadata": {},
   "source": [
    "### Below are a few examples of evaluating arithmetic expressions in Python"
   ]
  },
  {
   "cell_type": "code",
   "execution_count": 1,
   "id": "eadff7a0-5c30-4517-b9d9-22a8a5ead544",
   "metadata": {
    "tags": []
   },
   "outputs": [
    {
     "data": {
      "text/plain": [
       "17"
      ]
     },
     "execution_count": 1,
     "metadata": {},
     "output_type": "execute_result"
    }
   ],
   "source": [
    "# This a simple arithmetic expression to mutiply then add integers\n",
    "(3*4)+5"
   ]
  },
  {
   "cell_type": "code",
   "execution_count": 12,
   "id": "3bb41442-f6fe-4f8f-b9d7-d331eec85168",
   "metadata": {
    "tags": []
   },
   "outputs": [
    {
     "name": "stdout",
     "output_type": "stream",
     "text": [
      "3.3333333333333335\n"
     ]
    }
   ],
   "source": [
    "# This will convert 200 minutes to hours by diving by 60\n",
    "minutes = 200\n",
    "hours = minutes / 60\n",
    "print(hours)"
   ]
  },
  {
   "cell_type": "markdown",
   "id": "eda5e60d-4024-4b09-955a-ca26f10ee6dc",
   "metadata": {
    "tags": []
   },
   "source": [
    "## Author"
   ]
  },
  {
   "cell_type": "markdown",
   "id": "f8d456bb-bc18-4ac5-af88-7f349ef552f4",
   "metadata": {},
   "source": [
    "#### Mahdi Foruzanfard"
   ]
  },
  {
   "cell_type": "code",
   "execution_count": null,
   "id": "070c3ce9-fea3-469a-b8ad-6e4a09338bdb",
   "metadata": {},
   "outputs": [],
   "source": []
  }
 ],
 "metadata": {
  "kernelspec": {
   "display_name": "Python",
   "language": "python",
   "name": "conda-env-python-py"
  },
  "language_info": {
   "codemirror_mode": {
    "name": "ipython",
    "version": 3
   },
   "file_extension": ".py",
   "mimetype": "text/x-python",
   "name": "python",
   "nbconvert_exporter": "python",
   "pygments_lexer": "ipython3",
   "version": "3.7.12"
  }
 },
 "nbformat": 4,
 "nbformat_minor": 5
}
